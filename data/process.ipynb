{
 "cells": [
  {
   "cell_type": "code",
   "execution_count": 3,
   "metadata": {},
   "outputs": [],
   "source": [
    "import numpy as np\n",
    "import torch\n",
    "import matplotlib.pyplot as plt\n",
    "# import open3d as o3d\n",
    "import os\n",
    "# from open3d import JVisualizer\n",
    "\n",
    "TAG_CHAR = np.array([202021.25], np.float32)\n",
    "\n",
    "def readFlow(fn):\n",
    "    with open(fn, 'rb') as f:\n",
    "        magic = np.fromfile(f, np.float32, count=1)\n",
    "        if 202021.25 != magic:\n",
    "            print('Magic number incorrect. Invalid .flo file')\n",
    "            return None\n",
    "        else:\n",
    "            w = np.fromfile(f, np.int32, count=1)\n",
    "            h = np.fromfile(f, np.int32, count=1)\n",
    "            data = np.fromfile(f, np.float32, count=2*int(w)*int(h))\n",
    "            return np.resize(data, (int(h), int(w), 2))\n",
    "\n",
    "def coords_grid(ht, wd, cnt_x, cnt_y):\n",
    "    step_x = (wd - 1) // (cnt_x - 1)\n",
    "    step_y = (ht - 1) // (cnt_y - 1)\n",
    "    coords = torch.meshgrid(torch.arange(0, ht, step=step_y), torch.arange(0, wd, step=step_x))\n",
    "    coords = torch.stack(coords[::-1], dim=0).float()\n",
    "    return coords.permute([1,2,0])\n"
   ]
  },
  {
   "cell_type": "code",
   "execution_count": 10,
   "metadata": {},
   "outputs": [
    {
     "data": {
      "image/png": "[encoded data removed]",
      "text/plain": [
       "<Figure size 432x288 with 1 Axes>"
      ]
     },
     "metadata": {
      "needs_background": "light"
     },
     "output_type": "display_data"
    }
   ],
   "source": [
    "cnt_x = 32\n",
    "cnt_y = 24\n",
    "root = '../data/cap/video-4'\n",
    "\n",
    "points_path = os.path.join(root, 'points')\n",
    "if not os.path.exists(points_path):\n",
    "    os.mkdir(points_path)\n",
    "\n",
    "results_path = os.path.join(root, 'results')\n",
    "if not os.path.exists(results_path):\n",
    "    os.mkdir(results_path)\n",
    "\n",
    "flow_list = sorted(os.listdir(os.path.join(root, 'flows')))\n",
    "for flow_name in flow_list:\n",
    "    flow = readFlow(os.path.join(root, 'flows', flow_name))\n",
    "    H, W = flow.shape[:2]\n",
    "    coord1 = coords_grid(H, W, cnt_x, cnt_y)\n",
    "    coord1_h = coord1.reshape(-1,2).numpy().astype(np.uint)\n",
    "    coord2 = flow[coord1_h[:,1], coord1_h[:,0]] + coord1_h\n",
    "\n",
    "    data = np.concatenate([coord1_h, coord2], axis=1)\n",
    "    np.savetxt(os.path.join(points_path, '{:s}.txt'.format(flow_name.split('.')[0])), data)\n",
    "\n",
    "plt.scatter(coord2[:,0], coord2[:,1])      # x 代表x轴 y 代表y轴数据, 数据维度必须相同\n",
    "plt.xlim([0,640])\n",
    "plt.ylim([0,480])\n",
    "plt.show()"
   ]
  },
  {
   "cell_type": "code",
   "execution_count": 42,
   "metadata": {
    "scrolled": false
   },
   "outputs": [
    {
     "data": {
      "application/vnd.jupyter.widget-view+json": {
       "model_id": "2624f0d43a244ae6bf5f958869675f6b",
       "version_major": 2,
       "version_minor": 0
      },
      "text/plain": [
       "JVisualizer with 1 geometries"
      ]
     },
     "metadata": {},
     "output_type": "display_data"
    }
   ],
   "source": [
    "# result = np.loadtxt('../data/results.txt')\n",
    "\n",
    "# points3d = result[:, :3]\n",
    "# colors = result[:, 3:] / 255\n",
    "\n",
    "# pcd = o3d.geometry.PointCloud()\n",
    "# pcd.points = o3d.utility.Vector3dVector(points3d)\n",
    "# pcd.colors = o3d.utility.Vector3dVector(colors)\n",
    "\n",
    "\n",
    "visualizer = JVisualizer()\n",
    "visualizer.add_geometry(pcd)\n",
    "visualizer.show()"
   ]
  },
  {
   "cell_type": "code",
   "execution_count": 13,
   "metadata": {},
   "outputs": [],
   "source": [
    "files = sorted(os.listdir(os.path.join(root, 'flows')))\n",
    "files = [line[:6] for line in files]\n",
    "np.savetxt(os.path.join(root, 'index.txt'), files, fmt='%s')"
   ]
  },
  {
   "cell_type": "code",
   "execution_count": null,
   "metadata": {},
   "outputs": [],
   "source": []
  }
 ],
 "metadata": {
  "interpreter": {
   "hash": "42d8f3e4db2790e1fe2102720dfd4f96c8b1d157658bacbeda68a9b7b9e0fb7a"
  },
  "kernelspec": {
   "display_name": "Python 3 (ipykernel)",
   "language": "python",
   "name": "python3"
  },
  "language_info": {
   "codemirror_mode": {
    "name": "ipython",
    "version": 3
   },
   "file_extension": ".py",
   "mimetype": "text/x-python",
   "name": "python",
   "nbconvert_exporter": "python",
   "pygments_lexer": "ipython3",
   "version": "3.7.11"
  }
 },
 "nbformat": 4,
 "nbformat_minor": 2
}
